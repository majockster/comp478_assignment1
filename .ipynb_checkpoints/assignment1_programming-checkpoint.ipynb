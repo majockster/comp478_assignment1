{
 "cells": [
  {
   "cell_type": "code",
   "execution_count": 7,
   "id": "5c5c4abb",
   "metadata": {},
   "outputs": [],
   "source": [
    "import cv2\n",
    "from matplotlib import pyplot as plt"
   ]
  },
  {
   "cell_type": "code",
   "execution_count": 8,
   "id": "77361d23",
   "metadata": {},
   "outputs": [
    {
     "name": "stdout",
     "output_type": "stream",
     "text": [
      "Done showing image\n"
     ]
    }
   ],
   "source": [
    "current_image = cv2.imread('HawkesBay.jpeg',0)\n",
    "cv2.imshow('Greyscale Image', current_image)\n",
    "cv2.waitKey(0)\n",
    "cv2.destroyAllWindows()\n",
    "\n",
    "print('Done showing image')"
   ]
  },
  {
   "cell_type": "code",
   "execution_count": 33,
   "id": "1ebe774c",
   "metadata": {},
   "outputs": [
    {
     "data": {
      "image/png": "[encoded data removed]",
      "text/plain": [
       "<Figure size 432x288 with 1 Axes>"
      ]
     },
     "metadata": {
      "needs_background": "light"
     },
     "output_type": "display_data"
    },
    {
     "name": "stdout",
     "output_type": "stream",
     "text": [
      "[5938.]\n"
     ]
    }
   ],
   "source": [
    "hist = cv2.calcHist([current_image], [0], None, [256], [0,256])\n",
    "# print(hist)\n",
    "plt.figure()\n",
    "plt.title(\"Grayscale Histogram\")\n",
    "plt.xlabel(\"Gray level\")\n",
    "plt.ylabel(\"# of Pixels\")\n",
    "plt.plot(hist)\n",
    "plt.xlim([0, 256])\n",
    "plt.show()\n"
   ]
  },
  {
   "cell_type": "code",
   "execution_count": 64,
   "id": "2097e7d5",
   "metadata": {
    "scrolled": true
   },
   "outputs": [
    {
     "name": "stdout",
     "output_type": "stream",
     "text": [
      "256\n",
      "[0, 0, 0, 0, 0, 0, 0, 0, 0, 0, 0, 0, 0, 0, 0, 0, 0, 0, 0, 0, 0, 0, 0, 0, 0, 0, 0, 0, 0, 0, 0, 0, 0, 0, 0, 0, 0, 0, 0, 0, 0, 0, 0, 0, 0, 0, 0, 0, 0, 0, 0, 0, 0, 0, 0, 0, 0, 0, 0, 0, 0, 0, 0, 0, 0, 0, 0, 0, 0, 0, 0, 0, 0, 0, 0, 0, 0, 0, 0, 0, 0, 0, 0, 0, 0, 0, 0, 0, 0, 0, 0, 0, 0, 0, 0, 0, 0, 0, 0, 0, 0, 0, 0, 0, 0, 0, 0, 0, 0, 0, 0, 0, 0, 0, 0, 0, 0, 0, 0, 0, 1, 1, 2, 2, 3, 4, 5, 7, 9, 11, 14, 18, 23, 29, 36, 44, 53, 63, 74, 83, 92, 101, 108, 116, 123, 130, 137, 144, 150, 157, 163, 170, 176, 182, 188, 193, 198, 202, 206, 210, 213, 217, 220, 223, 225, 227, 229, 231, 232, 234, 235, 237, 238, 239, 240, 241, 242, 242, 243, 244, 244, 245, 245, 246, 246, 247, 247, 248, 248, 249, 249, 250, 250, 251, 252, 252, 253, 253, 254, 254, 254, 255, 255, 255, 255, 255, 255, 255, 255, 255, 255, 255, 255, 255, 255, 255, 255, 255, 255, 255, 255, 255, 255, 255, 255, 255, 255, 255, 255, 255, 255, 255, 255, 255, 255, 255, 255, 255, 255, 255, 255, 255, 255, 255, 255, 255, 255, 255, 255, 255, 255, 255, 255, 255, 255, 255]\n",
      "=================================================================\n",
      "[0, 0, 0, 0, 0, 0, 0, 0, 0, 0, 0, 0, 0, 0, 0, 0, 0, 0, 0, 0, 0, 0, 0, 0, 0, 0, 0, 0, 0, 0, 0, 0, 0, 0, 0, 0, 0, 0, 0, 0, 0, 0, 0, 0, 0, 0, 0, 0, 0, 0, 0, 0, 0, 0, 0, 0, 0, 0, 0, 0, 0, 0, 0, 0, 0, 0, 0, 0, 0, 0, 0, 0, 0, 0, 0, 0, 0, 0, 0, 0, 0, 0, 0, 0, 0, 0, 0, 0, 0, 0, 0, 0, 0, 0, 0, 0, 0, 0, 0, 0, 0, 0, 1, 0, 3, 1, 1, 0, 4, 1, 3, 2, 6, 17, 12, 17, 33, 56, 58, 110, 169, 232, 339, 461, 629, 740, 830, 994, 1276, 1636, 2137, 2608, 3289, 3980, 4798, 5507, 6420, 6961, 7248, 6556, 5938, 5946, 5395, 5085, 4810, 4904, 4649, 4723, 4576, 4477, 4450, 4481, 4393, 4332, 3882, 3584, 3261, 3024, 2691, 2477, 2302, 2356, 2024, 1923, 1621, 1479, 1296, 1171, 1109, 1064, 1015, 944, 789, 746, 668, 634, 585, 521, 417, 385, 354, 335, 333, 362, 376, 341, 324, 357, 418, 381, 378, 368, 370, 368, 379, 423, 442, 431, 339, 237, 149, 113, 64, 48, 45, 29, 16, 14, 11, 5, 6, 5, 4, 2, 3, 3, 1, 1, 0, 2, 1, 1, 0, 1, 0, 0, 1, 1, 0, 0, 0, 0, 0, 0, 0, 0, 0, 0, 0, 0, 0, 0, 0, 0, 0, 0, 0, 0, 0, 0, 0, 0, 0, 0, 0, 0]\n"
     ]
    }
   ],
   "source": [
    "# equilized_image = cv2.equalizeHist(current_image)\n",
    "def get_length(a):\n",
    "    return int(a[0])\n",
    "np = map(get_length,hist)\n",
    "\n",
    "np = list(np)\n",
    "print(len(np))\n",
    "s = []\n",
    "sum_of_prob_r = 0\n",
    "sum_of_all_pixels = sum(np)\n",
    "\n",
    "max_intensity = len(np) - 1\n",
    "for i in range(len(np)):\n",
    "    prob_of_r = np[i]/sum_of_all_pixels\n",
    "    sum_of_prob_r += prob_of_r\n",
    "#     print('nk = ' + str(np[i]) + '\\trk = ' + str(i) + '\\tp(rk) = ' + str(prob_of_r))\n",
    "    s.append(max_intensity * sum_of_prob_r)\n",
    "    \n",
    "rounded_s = [int(round(num)) for num in s]\n",
    "print(rounded_s)\n",
    "print('=================================================================')\n",
    "print(np)"
   ]
  },
  {
   "cell_type": "code",
   "execution_count": 98,
   "id": "cd6156da",
   "metadata": {},
   "outputs": [],
   "source": [
    "def get_number_of_pixels_per_intensity(intensities_ptr, new_np):\n",
    "    sum = 0\n",
    "    intensities_ptr.append(rounded_s[0])\n",
    "    for i in range(len(rounded_s)):\n",
    "        if i == len(rounded_s) - 1:\n",
    "            new_np.append(sum)\n",
    "            break\n",
    "        if rounded_s[i] in intensities_ptr:            \n",
    "            sum += np[i]\n",
    "        else:\n",
    "            intensities_ptr.append(rounded_s[i])\n",
    "            new_np.append(sum)\n",
    "            sum = np[i]"
   ]
  },
  {
   "cell_type": "code",
   "execution_count": 99,
   "id": "18fdd377",
   "metadata": {},
   "outputs": [
    {
     "name": "stdout",
     "output_type": "stream",
     "text": [
      "175104\n",
      "69\n",
      "69\n"
     ]
    }
   ],
   "source": [
    "intensities_ptr = []\n",
    "new_np = []\n",
    "get_number_of_pixels_per_intensity(intensities_ptr, new_np)\n",
    "print(sum(new_np))\n",
    "print(len(new_np))\n",
    "print(len(intensities_ptr))"
   ]
  },
  {
   "cell_type": "code",
   "execution_count": null,
   "id": "979349bc",
   "metadata": {},
   "outputs": [],
   "source": []
  }
 ],
 "metadata": {
  "kernelspec": {
   "display_name": "Python 3 (ipykernel)",
   "language": "python",
   "name": "python3"
  },
  "language_info": {
   "codemirror_mode": {
    "name": "ipython",
    "version": 3
   },
   "file_extension": ".py",
   "mimetype": "text/x-python",
   "name": "python",
   "nbconvert_exporter": "python",
   "pygments_lexer": "ipython3",
   "version": "3.9.5"
  }
 },
 "nbformat": 4,
 "nbformat_minor": 5
}
